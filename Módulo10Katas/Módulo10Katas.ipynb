{
 "cells": [
  {
   "cell_type": "markdown",
   "metadata": {},
   "source": [
    "\n",
    "\n",
    "### Ángel Luz de Jesús López Ureta\n",
    "\n",
    "<span style=\"font-family:monospace; color:rgb(200,200,255); font-weight: bold; font-size: 20px;\">Abrir archivo inexistente:<span>\n",
    "\n"
   ]
  },
  {
   "cell_type": "code",
   "execution_count": null,
   "metadata": {},
   "outputs": [],
   "source": [
    "open(\"/path/to/mars.jpg\")"
   ]
  },
  {
   "cell_type": "markdown",
   "metadata": {},
   "source": [
    "<span style=\"font-family:monospace; color:rgb(200,200,255); font-weight: bold; font-size: 20px;\">Error generado por el código anterior:<span>\n",
    "\n",
    "![Error por archivo inexistente](Resources/img1.png)\n",
    "<br><br>\n"
   ]
  },
  {
   "cell_type": "markdown",
   "metadata": {},
   "source": [
    "<span style=\"font-family:monospace; color:rgb(200,200,255); font-weight: bold; font-size: 20px;\">Crear archivo open.py:<span>\n",
    "\n",
    "![Archivo open.py](Resources/img2.png)\n",
    "<br><br>\n",
    "\n",
    "\n",
    "<span style=\"font-family:monospace; color:rgb(200,200,255); font-weight: bold; font-size: 20px;\">Error que aparece al ejecutar:<span>\n",
    "\n",
    "![Error al ejecutar open.py](Resources/img3.png)\n",
    "<br><br>\n",
    "\n",
    "\n"
   ]
  },
  {
   "cell_type": "code",
   "execution_count": null,
   "metadata": {},
   "outputs": [],
   "source": [
    "try:\n",
    "    open('config.txt')\n",
    "except FileNotFoundError:\n",
    "    print('No se pudo encontrar el archivo config.txt!')\n"
   ]
  },
  {
   "cell_type": "markdown",
   "metadata": {},
   "source": [
    "<span style=\"font-family:monospace; color:rgb(200,200,255); font-weight: bold; font-size: 20px;\">Salida del bloque anterior: <span>\n",
    "\n",
    "![Salida bloque try-except](Resources/img4.png)\n",
    "<br><br>\n",
    "\n",
    "\n",
    "<span style=\"font-family:monospace; color:rgb(200,200,255); font-weight: bold; font-size: 20px;\">Crear archivo config.py y directorio config.txt:<span>\n",
    "\n",
    "![Archivo config.py y directorio config.txt](Resources/img5.png)\n",
    "<br><br>\n",
    "\n",
    "\n",
    "\n",
    "<span style=\"font-family:monospace; color:rgb(200,200,255); font-weight: bold; font-size: 20px;\">Error generado al correr config.py:<span>\n",
    "\n",
    "![Error config.py](Resources/img6.png)\n",
    "<br><br>\n",
    "\n",
    "\n",
    "\n",
    "<span style=\"font-family:monospace; color:rgb(200,200,255); font-weight: bold; font-size: 20px;\">Salida después de quitar el FileNotFoundError:<span>\n",
    "\n",
    "![Salida config.py](Resources/img7.png)\n",
    "<br><br>\n",
    "\n",
    "\n",
    "\n",
    "<span style=\"font-family:monospace; color:rgb(200,200,255); font-weight: bold; font-size: 20px;\">Salida después de afinar los bloques try-except:<span>\n",
    "\n",
    "![Salida config.py 2](Resources/img8.png)\n",
    "<br><br>\n",
    "\n",
    "\n",
    "\n",
    "<span style=\"font-family:monospace; color:rgb(200,200,255); font-weight: bold; font-size: 20px;\">Salida después de quitar el directorio config.txt:<span>\n",
    "\n",
    "![Salida config.py 3](Resources/img9.png)\n",
    "<br><br>\n",
    "\n",
    "\n",
    "\n",
    "<span style=\"font-family:monospace; color:rgb(200,200,255); font-weight: bold; font-size: 20px;\">Se añaden las agrupaciones de except para Blocking y Tomeout, así como el \"as err\" para el caso de FileNotFound:<span>\n",
    "\n",
    "![Agrupaciones except y \"as err\" config.py](Resources/img10.png)\n",
    "\n",
    "<br><br>\n",
    "\n",
    "\n",
    "\n",
    "<span style=\"font-family:monospace; color:rgb(200,200,255); font-weight: bold; font-size: 20px;\">Salida posterior a las ediciones anteriores:<span> \n",
    "\n",
    "![Salida config.py 4](Resources/img11.png)\n",
    "<br><br>\n",
    "\n",
    "<span style=\"font-family:monospace; color:rgb(200,200,255); font-weight: bold; font-size: 20px;\">Identificación de errores por errno<span> \n",
    "\n",
    "![Identificación de errores por errno config.py](Resources/img12.png)\n",
    "<br><br>\n",
    "\n",
    "<span style=\"font-family:monospace; color:rgb(200,200,255); font-weight: bold; font-size: 20px;\">Salida de detectar error por errno<span> \n",
    "\n",
    "![Salida config.py 5](Resources/img9.png)\n",
    "<br><br><br><br>\n",
    "\n",
    "### Generación de excepciones\n",
    "\n",
    "\n"
   ]
  },
  {
   "cell_type": "code",
   "execution_count": null,
   "metadata": {},
   "outputs": [],
   "source": [
    "def water_left(astronauts, water_left, days_left):\n",
    "    daily_usage = astronauts * 11\n",
    "    total_usage = daily_usage * days_left\n",
    "    total_water_left = water_left - total_usage\n",
    "    return f\"Total water left after {days_left} days is: {total_water_left} liters\"\n",
    "\n",
    "print(water_left(5,100,2))"
   ]
  },
  {
   "cell_type": "markdown",
   "metadata": {},
   "source": [
    "![Salida water_left](Resources/img13.png)"
   ]
  },
  {
   "cell_type": "code",
   "execution_count": null,
   "metadata": {},
   "outputs": [],
   "source": [
    "def water_left(astronauts, water_left, days_left):\n",
    "    daily_usage = astronauts * 11\n",
    "    total_usage = daily_usage * days_left\n",
    "    total_water_left = water_left - total_usage\n",
    "    if total_water_left < 0:\n",
    "        raise RuntimeError(f\"There is not enough water for {astronauts} astronauts after {days_left} days!\")\n",
    "    return f\"Total water left after {days_left} days is: {total_water_left} liters\"\n",
    "    \n",
    "print(water_left(5,100,2))"
   ]
  },
  {
   "cell_type": "markdown",
   "metadata": {},
   "source": [
    "![Error water_left](Resources/img14.png)"
   ]
  },
  {
   "cell_type": "code",
   "execution_count": null,
   "metadata": {},
   "outputs": [],
   "source": [
    "def water_left(astronauts, water_left, days_left):\n",
    "    daily_usage = astronauts * 11\n",
    "    total_usage = daily_usage * days_left\n",
    "    total_water_left = water_left - total_usage\n",
    "    if total_water_left < 0:\n",
    "        raise RuntimeError(f\"There is not enough water for {astronauts} astronauts after {days_left} days!\")\n",
    "    return f\"Total water left after {days_left} days is: {total_water_left} liters\"\n",
    "\n",
    "try: \n",
    "    print(water_left(5,100,2))\n",
    "except RuntimeError as err:\n",
    "    print(err)"
   ]
  },
  {
   "cell_type": "markdown",
   "metadata": {},
   "source": [
    "![Error water_left try-except](Resources/img15.png)"
   ]
  },
  {
   "cell_type": "code",
   "execution_count": null,
   "metadata": {},
   "outputs": [],
   "source": [
    "def water_left(astronauts, water_left, days_left):\n",
    "    daily_usage = astronauts * 11\n",
    "    total_usage = daily_usage * days_left\n",
    "    total_water_left = water_left - total_usage\n",
    "    if total_water_left < 0:\n",
    "        raise RuntimeError(f\"There is not enough water for {astronauts} astronauts after {days_left} days!\")\n",
    "    return f\"Total water left after {days_left} days is: {total_water_left} liters\"\n",
    "\n",
    "try: \n",
    "    print(water_left(\"5\",100,None))\n",
    "except RuntimeError as err:\n",
    "    print(err)"
   ]
  },
  {
   "cell_type": "markdown",
   "metadata": {},
   "source": [
    "![Type error en water_left](Resources/img16.png)"
   ]
  },
  {
   "cell_type": "code",
   "execution_count": null,
   "metadata": {},
   "outputs": [],
   "source": [
    "def water_left(astronauts, water_left, days_left):\n",
    "    for argument in [astronauts,water_left,days_left]:\n",
    "        try:\n",
    "            argument/10\n",
    "        except TypeError:\n",
    "            raise TypeError(f\"All arguments must be of type int, but received: '{argument}', which is a {str(type(argument)).split()[1].split('>')[0]}\")\n",
    "    daily_usage = astronauts * 11\n",
    "    total_usage = daily_usage * days_left\n",
    "    total_water_left = water_left - total_usage\n",
    "    if total_water_left < 0:\n",
    "        raise RuntimeError(f\"There is not enough water for {astronauts} astronauts after {days_left} days!\")\n",
    "    return f\"Total water left after {days_left} days is: {total_water_left} liters\"\n",
    "\n",
    "try: \n",
    "    print(water_left(\"5\",100,None))\n",
    "except RuntimeError as err:\n",
    "    print(err)"
   ]
  },
  {
   "cell_type": "markdown",
   "metadata": {},
   "source": [
    "![Type error mejorado en water_left](Resources/img17.png)"
   ]
  }
 ],
 "metadata": {
  "interpreter": {
   "hash": "0cedf272ad38d49d1a12b491fd48d4c41f6ee6c7c7a4bd36c6cecf488f0c1706"
  },
  "kernelspec": {
   "display_name": "Python 3.10.1 64-bit",
   "language": "python",
   "name": "python3"
  },
  "language_info": {
   "codemirror_mode": {
    "name": "ipython",
    "version": 3
   },
   "file_extension": ".py",
   "mimetype": "text/x-python",
   "name": "python",
   "nbconvert_exporter": "python",
   "pygments_lexer": "ipython3",
   "version": "3.10.1"
  },
  "orig_nbformat": 4
 },
 "nbformat": 4,
 "nbformat_minor": 2
}
